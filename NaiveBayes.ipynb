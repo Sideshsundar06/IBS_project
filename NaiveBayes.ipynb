{
 "cells": [
  {
   "cell_type": "markdown",
   "metadata": {},
   "source": [
    "#### Naive Bayes Model"
   ]
  },
  {
   "cell_type": "code",
   "execution_count": 1,
   "metadata": {},
   "outputs": [],
   "source": [
    "import pandas as pd\n",
    "import matplotlib.pyplot as plt\n",
    "import numpy as np\n",
    "%matplotlib inline"
   ]
  },
  {
   "cell_type": "markdown",
   "metadata": {},
   "source": [
    "#### Load dataset and shape of the dataset"
   ]
  },
  {
   "cell_type": "code",
   "execution_count": 39,
   "metadata": {},
   "outputs": [
    {
     "data": {
      "text/plain": [
       "(309226, 10)"
      ]
     },
     "execution_count": 39,
     "metadata": {},
     "output_type": "execute_result"
    }
   ],
   "source": [
    "data_frame = pd.read_csv(\"FinalData.csv\")\n",
    "\n",
    "data_frame.shape\n"
   ]
  },
  {
   "cell_type": "markdown",
   "metadata": {},
   "source": [
    "#### Dataset values, head(10)"
   ]
  },
  {
   "cell_type": "code",
   "execution_count": 40,
   "metadata": {},
   "outputs": [
    {
     "data": {
      "text/html": [
       "<div>\n",
       "<style scoped>\n",
       "    .dataframe tbody tr th:only-of-type {\n",
       "        vertical-align: middle;\n",
       "    }\n",
       "\n",
       "    .dataframe tbody tr th {\n",
       "        vertical-align: top;\n",
       "    }\n",
       "\n",
       "    .dataframe thead th {\n",
       "        text-align: right;\n",
       "    }\n",
       "</style>\n",
       "<table border=\"1\" class=\"dataframe\">\n",
       "  <thead>\n",
       "    <tr style=\"text-align: right;\">\n",
       "      <th></th>\n",
       "      <th>VAX_TYPE</th>\n",
       "      <th>AGE_YRS</th>\n",
       "      <th>SEX</th>\n",
       "      <th>SLEEPING_PROB</th>\n",
       "      <th>CHEST_TIGHTNESS</th>\n",
       "      <th>BREATH</th>\n",
       "      <th>COUGH</th>\n",
       "      <th>ALLERGY</th>\n",
       "      <th>WHEEZING</th>\n",
       "      <th>ASTHMA</th>\n",
       "    </tr>\n",
       "  </thead>\n",
       "  <tbody>\n",
       "    <tr>\n",
       "      <th>0</th>\n",
       "      <td>HEPA</td>\n",
       "      <td>1.50</td>\n",
       "      <td>M</td>\n",
       "      <td>False</td>\n",
       "      <td>False</td>\n",
       "      <td>False</td>\n",
       "      <td>False</td>\n",
       "      <td>False</td>\n",
       "      <td>False</td>\n",
       "      <td>False</td>\n",
       "    </tr>\n",
       "    <tr>\n",
       "      <th>1</th>\n",
       "      <td>RV5</td>\n",
       "      <td>28.00</td>\n",
       "      <td>F</td>\n",
       "      <td>False</td>\n",
       "      <td>True</td>\n",
       "      <td>True</td>\n",
       "      <td>True</td>\n",
       "      <td>False</td>\n",
       "      <td>True</td>\n",
       "      <td>True</td>\n",
       "    </tr>\n",
       "    <tr>\n",
       "      <th>2</th>\n",
       "      <td>FLU3</td>\n",
       "      <td>53.00</td>\n",
       "      <td>F</td>\n",
       "      <td>False</td>\n",
       "      <td>False</td>\n",
       "      <td>False</td>\n",
       "      <td>False</td>\n",
       "      <td>False</td>\n",
       "      <td>False</td>\n",
       "      <td>False</td>\n",
       "    </tr>\n",
       "    <tr>\n",
       "      <th>3</th>\n",
       "      <td>HEP</td>\n",
       "      <td>69.00</td>\n",
       "      <td>M</td>\n",
       "      <td>False</td>\n",
       "      <td>False</td>\n",
       "      <td>False</td>\n",
       "      <td>False</td>\n",
       "      <td>False</td>\n",
       "      <td>False</td>\n",
       "      <td>False</td>\n",
       "    </tr>\n",
       "    <tr>\n",
       "      <th>4</th>\n",
       "      <td>HEPA</td>\n",
       "      <td>24.00</td>\n",
       "      <td>F</td>\n",
       "      <td>False</td>\n",
       "      <td>False</td>\n",
       "      <td>True</td>\n",
       "      <td>True</td>\n",
       "      <td>False</td>\n",
       "      <td>True</td>\n",
       "      <td>True</td>\n",
       "    </tr>\n",
       "    <tr>\n",
       "      <th>5</th>\n",
       "      <td>TDAP</td>\n",
       "      <td>35.00</td>\n",
       "      <td>F</td>\n",
       "      <td>False</td>\n",
       "      <td>False</td>\n",
       "      <td>False</td>\n",
       "      <td>False</td>\n",
       "      <td>False</td>\n",
       "      <td>False</td>\n",
       "      <td>False</td>\n",
       "    </tr>\n",
       "    <tr>\n",
       "      <th>6</th>\n",
       "      <td>VARZOS</td>\n",
       "      <td>65.00</td>\n",
       "      <td>F</td>\n",
       "      <td>False</td>\n",
       "      <td>False</td>\n",
       "      <td>False</td>\n",
       "      <td>False</td>\n",
       "      <td>False</td>\n",
       "      <td>False</td>\n",
       "      <td>False</td>\n",
       "    </tr>\n",
       "    <tr>\n",
       "      <th>7</th>\n",
       "      <td>PPV</td>\n",
       "      <td>1.58</td>\n",
       "      <td>F</td>\n",
       "      <td>False</td>\n",
       "      <td>False</td>\n",
       "      <td>True</td>\n",
       "      <td>True</td>\n",
       "      <td>False</td>\n",
       "      <td>False</td>\n",
       "      <td>True</td>\n",
       "    </tr>\n",
       "    <tr>\n",
       "      <th>8</th>\n",
       "      <td>FLU4</td>\n",
       "      <td>0.33</td>\n",
       "      <td>F</td>\n",
       "      <td>False</td>\n",
       "      <td>False</td>\n",
       "      <td>False</td>\n",
       "      <td>False</td>\n",
       "      <td>False</td>\n",
       "      <td>False</td>\n",
       "      <td>False</td>\n",
       "    </tr>\n",
       "    <tr>\n",
       "      <th>9</th>\n",
       "      <td>FLU4</td>\n",
       "      <td>62.00</td>\n",
       "      <td>M</td>\n",
       "      <td>False</td>\n",
       "      <td>False</td>\n",
       "      <td>False</td>\n",
       "      <td>False</td>\n",
       "      <td>False</td>\n",
       "      <td>False</td>\n",
       "      <td>False</td>\n",
       "    </tr>\n",
       "  </tbody>\n",
       "</table>\n",
       "</div>"
      ],
      "text/plain": [
       "  VAX_TYPE  AGE_YRS SEX  SLEEPING_PROB  CHEST_TIGHTNESS  BREATH  COUGH  \\\n",
       "0     HEPA     1.50   M          False            False   False  False   \n",
       "1      RV5    28.00   F          False             True    True   True   \n",
       "2     FLU3    53.00   F          False            False   False  False   \n",
       "3      HEP    69.00   M          False            False   False  False   \n",
       "4     HEPA    24.00   F          False            False    True   True   \n",
       "5     TDAP    35.00   F          False            False   False  False   \n",
       "6   VARZOS    65.00   F          False            False   False  False   \n",
       "7      PPV     1.58   F          False            False    True   True   \n",
       "8     FLU4     0.33   F          False            False   False  False   \n",
       "9     FLU4    62.00   M          False            False   False  False   \n",
       "\n",
       "   ALLERGY  WHEEZING  ASTHMA  \n",
       "0    False     False   False  \n",
       "1    False      True    True  \n",
       "2    False     False   False  \n",
       "3    False     False   False  \n",
       "4    False      True    True  \n",
       "5    False     False   False  \n",
       "6    False     False   False  \n",
       "7    False     False    True  \n",
       "8    False     False   False  \n",
       "9    False     False   False  "
      ]
     },
     "execution_count": 40,
     "metadata": {},
     "output_type": "execute_result"
    }
   ],
   "source": [
    "data_frame.head(10)"
   ]
  },
  {
   "cell_type": "markdown",
   "metadata": {},
   "source": [
    "#### Data Cleaning. If there any missing values, then delete the corresponding rows for more accuracy"
   ]
  },
  {
   "cell_type": "code",
   "execution_count": 41,
   "metadata": {},
   "outputs": [
    {
     "name": "stdout",
     "output_type": "stream",
     "text": [
      "Missing values?\n",
      "True\n",
      "ereasing null values.\n",
      "Missing values?\n",
      "False\n"
     ]
    },
    {
     "data": {
      "text/plain": [
       "(245860, 10)"
      ]
     },
     "execution_count": 41,
     "metadata": {},
     "output_type": "execute_result"
    }
   ],
   "source": [
    "print(\"Missing values?\")\n",
    "print(data_frame.isnull().values.any())\n",
    "print(\"ereasing null values.\")\n",
    "data_frame = data_frame.dropna()\n",
    "\n",
    "print(\"Missing values?\")\n",
    "print(data_frame.isnull().values.any())\n",
    "data_frame.shape"
   ]
  },
  {
   "cell_type": "markdown",
   "metadata": {},
   "source": [
    "#### Data transform: mapping string values with integer values"
   ]
  },
  {
   "cell_type": "code",
   "execution_count": 42,
   "metadata": {},
   "outputs": [],
   "source": [
    "asthma_map = {True : 1, False : 0}\n",
    "data_frame['ASTHMA'] = data_frame['ASTHMA'].map(asthma_map)\n",
    "\n",
    "sleep_map = {True : 1, False : 0}\n",
    "data_frame['SLEEPING_PROB'] = data_frame['SLEEPING_PROB'].map(sleep_map)\n",
    "\n",
    "chest_map = {True : 1, False : 0}\n",
    "data_frame['CHEST_TIGHTNESS'] = data_frame['CHEST_TIGHTNESS'].map(chest_map)\n",
    "\n",
    "breath_map = {True : 1, False : 0}\n",
    "data_frame['BREATH'] = data_frame['BREATH'].map(breath_map)\n",
    "\n",
    "cough_map = {True : 1, False : 0}\n",
    "data_frame['COUGH'] = data_frame['COUGH'].map(cough_map)\n",
    "\n",
    "allergy_map = {True : 1, False : 0}\n",
    "data_frame['ALLERGY'] = data_frame['ALLERGY'].map(allergy_map)\n",
    "\n",
    "sex_map = {'M' : 1, 'F' : 0, 'U' : 2}\n",
    "data_frame['SEX'] = data_frame['SEX'].map(sex_map)\n",
    "\n",
    "wheezing_map = {True : 1, False : 0}\n",
    "data_frame['WHEEZING'] = data_frame['WHEEZING'].map(wheezing_map)\n",
    "\n",
    "vax_data = data_frame['VAX_TYPE']\n",
    "vax=[]\n",
    "for items in vax_data:\n",
    "    if items in vax:\n",
    "        continue\n",
    "    else:\n",
    "        #print(items)\n",
    "        vax.append(items)\n",
    "#print(\"Vax list: \")\n",
    "#print(vax)\n",
    "key=0\n",
    "vax_map={key: value for (key, value) in zip(vax,range(len(vax))) }\n",
    "data_frame['VAX_TYPE'] = data_frame['VAX_TYPE'].map(vax_map)"
   ]
  },
  {
   "cell_type": "markdown",
   "metadata": {},
   "source": [
    "#### Dataset after mapping"
   ]
  },
  {
   "cell_type": "code",
   "execution_count": 43,
   "metadata": {},
   "outputs": [
    {
     "data": {
      "text/html": [
       "<div>\n",
       "<style scoped>\n",
       "    .dataframe tbody tr th:only-of-type {\n",
       "        vertical-align: middle;\n",
       "    }\n",
       "\n",
       "    .dataframe tbody tr th {\n",
       "        vertical-align: top;\n",
       "    }\n",
       "\n",
       "    .dataframe thead th {\n",
       "        text-align: right;\n",
       "    }\n",
       "</style>\n",
       "<table border=\"1\" class=\"dataframe\">\n",
       "  <thead>\n",
       "    <tr style=\"text-align: right;\">\n",
       "      <th></th>\n",
       "      <th>VAX_TYPE</th>\n",
       "      <th>AGE_YRS</th>\n",
       "      <th>SEX</th>\n",
       "      <th>SLEEPING_PROB</th>\n",
       "      <th>CHEST_TIGHTNESS</th>\n",
       "      <th>BREATH</th>\n",
       "      <th>COUGH</th>\n",
       "      <th>ALLERGY</th>\n",
       "      <th>WHEEZING</th>\n",
       "      <th>ASTHMA</th>\n",
       "    </tr>\n",
       "  </thead>\n",
       "  <tbody>\n",
       "    <tr>\n",
       "      <th>0</th>\n",
       "      <td>0</td>\n",
       "      <td>1.50</td>\n",
       "      <td>1</td>\n",
       "      <td>0</td>\n",
       "      <td>0</td>\n",
       "      <td>0</td>\n",
       "      <td>0</td>\n",
       "      <td>0</td>\n",
       "      <td>0</td>\n",
       "      <td>0</td>\n",
       "    </tr>\n",
       "    <tr>\n",
       "      <th>1</th>\n",
       "      <td>1</td>\n",
       "      <td>28.00</td>\n",
       "      <td>0</td>\n",
       "      <td>0</td>\n",
       "      <td>1</td>\n",
       "      <td>1</td>\n",
       "      <td>1</td>\n",
       "      <td>0</td>\n",
       "      <td>1</td>\n",
       "      <td>1</td>\n",
       "    </tr>\n",
       "    <tr>\n",
       "      <th>2</th>\n",
       "      <td>2</td>\n",
       "      <td>53.00</td>\n",
       "      <td>0</td>\n",
       "      <td>0</td>\n",
       "      <td>0</td>\n",
       "      <td>0</td>\n",
       "      <td>0</td>\n",
       "      <td>0</td>\n",
       "      <td>0</td>\n",
       "      <td>0</td>\n",
       "    </tr>\n",
       "    <tr>\n",
       "      <th>3</th>\n",
       "      <td>3</td>\n",
       "      <td>69.00</td>\n",
       "      <td>1</td>\n",
       "      <td>0</td>\n",
       "      <td>0</td>\n",
       "      <td>0</td>\n",
       "      <td>0</td>\n",
       "      <td>0</td>\n",
       "      <td>0</td>\n",
       "      <td>0</td>\n",
       "    </tr>\n",
       "    <tr>\n",
       "      <th>4</th>\n",
       "      <td>0</td>\n",
       "      <td>24.00</td>\n",
       "      <td>0</td>\n",
       "      <td>0</td>\n",
       "      <td>0</td>\n",
       "      <td>1</td>\n",
       "      <td>1</td>\n",
       "      <td>0</td>\n",
       "      <td>1</td>\n",
       "      <td>1</td>\n",
       "    </tr>\n",
       "    <tr>\n",
       "      <th>5</th>\n",
       "      <td>4</td>\n",
       "      <td>35.00</td>\n",
       "      <td>0</td>\n",
       "      <td>0</td>\n",
       "      <td>0</td>\n",
       "      <td>0</td>\n",
       "      <td>0</td>\n",
       "      <td>0</td>\n",
       "      <td>0</td>\n",
       "      <td>0</td>\n",
       "    </tr>\n",
       "    <tr>\n",
       "      <th>6</th>\n",
       "      <td>5</td>\n",
       "      <td>65.00</td>\n",
       "      <td>0</td>\n",
       "      <td>0</td>\n",
       "      <td>0</td>\n",
       "      <td>0</td>\n",
       "      <td>0</td>\n",
       "      <td>0</td>\n",
       "      <td>0</td>\n",
       "      <td>0</td>\n",
       "    </tr>\n",
       "    <tr>\n",
       "      <th>7</th>\n",
       "      <td>6</td>\n",
       "      <td>1.58</td>\n",
       "      <td>0</td>\n",
       "      <td>0</td>\n",
       "      <td>0</td>\n",
       "      <td>1</td>\n",
       "      <td>1</td>\n",
       "      <td>0</td>\n",
       "      <td>0</td>\n",
       "      <td>1</td>\n",
       "    </tr>\n",
       "    <tr>\n",
       "      <th>8</th>\n",
       "      <td>7</td>\n",
       "      <td>0.33</td>\n",
       "      <td>0</td>\n",
       "      <td>0</td>\n",
       "      <td>0</td>\n",
       "      <td>0</td>\n",
       "      <td>0</td>\n",
       "      <td>0</td>\n",
       "      <td>0</td>\n",
       "      <td>0</td>\n",
       "    </tr>\n",
       "    <tr>\n",
       "      <th>9</th>\n",
       "      <td>7</td>\n",
       "      <td>62.00</td>\n",
       "      <td>1</td>\n",
       "      <td>0</td>\n",
       "      <td>0</td>\n",
       "      <td>0</td>\n",
       "      <td>0</td>\n",
       "      <td>0</td>\n",
       "      <td>0</td>\n",
       "      <td>0</td>\n",
       "    </tr>\n",
       "  </tbody>\n",
       "</table>\n",
       "</div>"
      ],
      "text/plain": [
       "   VAX_TYPE  AGE_YRS  SEX  SLEEPING_PROB  CHEST_TIGHTNESS  BREATH  COUGH  \\\n",
       "0         0     1.50    1              0                0       0      0   \n",
       "1         1    28.00    0              0                1       1      1   \n",
       "2         2    53.00    0              0                0       0      0   \n",
       "3         3    69.00    1              0                0       0      0   \n",
       "4         0    24.00    0              0                0       1      1   \n",
       "5         4    35.00    0              0                0       0      0   \n",
       "6         5    65.00    0              0                0       0      0   \n",
       "7         6     1.58    0              0                0       1      1   \n",
       "8         7     0.33    0              0                0       0      0   \n",
       "9         7    62.00    1              0                0       0      0   \n",
       "\n",
       "   ALLERGY  WHEEZING  ASTHMA  \n",
       "0        0         0       0  \n",
       "1        0         1       1  \n",
       "2        0         0       0  \n",
       "3        0         0       0  \n",
       "4        0         1       1  \n",
       "5        0         0       0  \n",
       "6        0         0       0  \n",
       "7        0         0       1  \n",
       "8        0         0       0  \n",
       "9        0         0       0  "
      ]
     },
     "execution_count": 43,
     "metadata": {},
     "output_type": "execute_result"
    }
   ],
   "source": [
    "data_frame.head(10)"
   ]
  },
  {
   "cell_type": "markdown",
   "metadata": {},
   "source": [
    "#### Number of case having asthma or not after vaccination"
   ]
  },
  {
   "cell_type": "code",
   "execution_count": 44,
   "metadata": {},
   "outputs": [
    {
     "name": "stdout",
     "output_type": "stream",
     "text": [
      "Number of True cases:  16089 (6.54%)\n",
      "Number of False cases: 229771 (93.46%)\n"
     ]
    }
   ],
   "source": [
    "num_obs = len(data_frame)\n",
    "num_true = len(data_frame.loc[data_frame['ASTHMA'] == 1])\n",
    "num_false = len(data_frame.loc[data_frame['ASTHMA'] == 0])\n",
    "print(\"Number of True cases:  {0} ({1:2.2f}%)\".format(num_true, ((1.00 * num_true)/(1.0 * num_obs)) * 100))\n",
    "print(\"Number of False cases: {0} ({1:2.2f}%)\".format(num_false, (( 1.0 * num_false)/(1.0 * num_obs)) * 100))"
   ]
  },
  {
   "cell_type": "markdown",
   "metadata": {},
   "source": [
    "#### Data splitting: 70% train set and 30% test set"
   ]
  },
  {
   "cell_type": "code",
   "execution_count": 45,
   "metadata": {},
   "outputs": [
    {
     "name": "stdout",
     "output_type": "stream",
     "text": [
      "split varirfication:\n",
      "70.00% in training set\n",
      "30.00% in test set\n"
     ]
    }
   ],
   "source": [
    "from sklearn.model_selection import train_test_split\n",
    "\n",
    "feature_col_names = ['VAX_TYPE', 'AGE_YRS', 'SEX', 'SLEEPING_PROB', 'CHEST_TIGHTNESS', 'BREATH', 'COUGH', 'ALLERGY','WHEEZING']\n",
    "predicted_class_names = ['ASTHMA']\n",
    "\n",
    "X = data_frame[feature_col_names].values     # predictor feature columns (8 X m)\n",
    "y = data_frame[predicted_class_names].values # predicted class (1=true, 0=false) column (1 X m)\n",
    "\n",
    "X_train, X_test, y_train, y_test = train_test_split(X, y, test_size=0.3, random_state=0) \n",
    "\n",
    "print(\"split varirfication:\")\n",
    "trainval = (1.0 * len(X_train)) / (1.0 * len(data_frame.index))\n",
    "testval = (1.0 * len(X_test)) / (1.0 * len(data_frame.index))\n",
    "print(\"{0:0.2f}% in training set\".format(trainval * 100))\n",
    "print(\"{0:0.2f}% in test set\".format(testval * 100))"
   ]
  },
  {
   "cell_type": "markdown",
   "metadata": {},
   "source": [
    "#### verifying whether the predicted value was split correctly"
   ]
  },
  {
   "cell_type": "code",
   "execution_count": 46,
   "metadata": {},
   "outputs": [
    {
     "name": "stdout",
     "output_type": "stream",
     "text": [
      "\n",
      "Original True  : 16089 (6.54%)\n",
      "Original False : 229771 (93.46%)\n",
      "\n",
      "Training True  : 11289 (6.56%)\n",
      "Training False : 160813 (93.44%)\n",
      "\n",
      "Test True      : 4800 (6.51%)\n",
      "Test False     : 68958 (93.49%)\n"
     ]
    }
   ],
   "source": [
    "print(\"\\nOriginal True  : {0} ({1:0.2f}%)\".format(len(data_frame.loc[data_frame['ASTHMA'] == 1]), (len(data_frame.loc[data_frame['ASTHMA'] == 1])/len(data_frame.index)) * 100.0))\n",
    "print(\"Original False : {0} ({1:0.2f}%)\".format(len(data_frame.loc[data_frame['ASTHMA'] == 0]), (len(data_frame.loc[data_frame['ASTHMA'] == 0])/len(data_frame.index)) * 100.0))\n",
    "print(\"\")\n",
    "print(\"Training True  : {0} ({1:0.2f}%)\".format(len(y_train[y_train[:] == 1]), (len(y_train[y_train[:] == 1])/len(y_train) * 100.0)))\n",
    "print(\"Training False : {0} ({1:0.2f}%)\".format(len(y_train[y_train[:] == 0]), (len(y_train[y_train[:] == 0])/len(y_train) * 100.0)))\n",
    "print(\"\")\n",
    "print(\"Test True      : {0} ({1:0.2f}%)\".format(len(y_test[y_test[:] == 1]), (len(y_test[y_test[:] == 1])/len(y_test) * 100.0)))\n",
    "print(\"Test False     : {0} ({1:0.2f}%)\".format(len(y_test[y_test[:] == 0]), (len(y_test[y_test[:] == 0])/len(y_test) * 100.0)))\n"
   ]
  },
  {
   "cell_type": "markdown",
   "metadata": {},
   "source": [
    "#### Data Scaling"
   ]
  },
  {
   "cell_type": "code",
   "execution_count": 47,
   "metadata": {},
   "outputs": [],
   "source": [
    "from sklearn.preprocessing import StandardScaler  \n",
    "scaler = StandardScaler()  \n",
    "scaler.fit(X_train)\n",
    "\n",
    "X_train = scaler.transform(X_train)  \n",
    "X_test = scaler.transform(X_test) "
   ]
  },
  {
   "cell_type": "markdown",
   "metadata": {},
   "source": [
    "#### Training algorithm: Naive Bayes "
   ]
  },
  {
   "cell_type": "code",
   "execution_count": 48,
   "metadata": {},
   "outputs": [],
   "source": [
    "from sklearn.naive_bayes import GaussianNB\n",
    "# create Gaussian Naive Bayes model object and train it with the data\n",
    "nb_model = GaussianNB()\n",
    "\n",
    "nb_model.fit(X_train, y_train.ravel())\n",
    "# this returns array of predicted results\n",
    "prediction_from_trained_data = nb_model.predict(X_train)"
   ]
  },
  {
   "cell_type": "markdown",
   "metadata": {},
   "source": [
    "#### Accuracy on train set and test set"
   ]
  },
  {
   "cell_type": "code",
   "execution_count": 49,
   "metadata": {},
   "outputs": [
    {
     "name": "stdout",
     "output_type": "stream",
     "text": [
      "\n",
      "Accuracy of NB of train data is : 0.9669\n",
      "\n",
      "Accuracy of NB on test Data is: 0.9671\n"
     ]
    }
   ],
   "source": [
    "#get accuracy\n",
    "from sklearn import metrics\n",
    "\n",
    "accuracy = metrics.accuracy_score(y_train, prediction_from_trained_data)\n",
    "print(\"\\nAccuracy of NB of train data is : {0:.4f}\".format(accuracy))\n",
    "\n",
    "#print accuracy\n",
    "# this returns array of predicted results from test_data\n",
    "prediction_from_test_data = nb_model.predict(X_test)\n",
    "\n",
    "accuracy = metrics.accuracy_score(y_test, prediction_from_test_data)\n",
    "\n",
    "print(\"\\nAccuracy of NB on test Data is: {0:0.4f}\".format(accuracy))"
   ]
  },
  {
   "cell_type": "markdown",
   "metadata": {},
   "source": [
    "#### Confusion matrix and classification report"
   ]
  },
  {
   "cell_type": "code",
   "execution_count": 50,
   "metadata": {},
   "outputs": [
    {
     "name": "stdout",
     "output_type": "stream",
     "text": [
      "Confusion Matrix for NB Network\n",
      "[[ 4800     0]\n",
      " [ 2427 66531]]\n",
      "\n",
      "Classification Report\n",
      "             precision    recall  f1-score   support\n",
      "\n",
      "          1       0.66      1.00      0.80      4800\n",
      "          0       1.00      0.96      0.98     68958\n",
      "\n",
      "avg / total       0.98      0.97      0.97     73758\n",
      "\n"
     ]
    }
   ],
   "source": [
    "from sklearn.metrics import classification_report, confusion_matrix \n",
    "\n",
    "print(\"Confusion Matrix for NB Network\")\n",
    "print(\"{0}\".format(confusion_matrix(y_test,prediction_from_test_data,labels=[1,0])))  \n",
    "\n",
    "print(\"\\nClassification Report\")\n",
    "print(\"{0}\".format(classification_report(y_test,prediction_from_test_data, labels=[1, 0]))) "
   ]
  },
  {
   "cell_type": "code",
   "execution_count": null,
   "metadata": {},
   "outputs": [],
   "source": []
  }
 ],
 "metadata": {
  "kernelspec": {
   "display_name": "Python 3",
   "language": "python",
   "name": "python3"
  },
  "language_info": {
   "codemirror_mode": {
    "name": "ipython",
    "version": 3
   },
   "file_extension": ".py",
   "mimetype": "text/x-python",
   "name": "python",
   "nbconvert_exporter": "python",
   "pygments_lexer": "ipython3",
   "version": "3.6.4"
  }
 },
 "nbformat": 4,
 "nbformat_minor": 2
}
